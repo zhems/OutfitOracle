{
 "cells": [
  {
   "cell_type": "code",
   "execution_count": 3,
   "metadata": {},
   "outputs": [
    {
     "data": {
      "text/plain": [
       "['94183CFC-A7C8-4482-9BCC-9B5BE0076A22-317-00000001D5595170.JPG',\n",
       " 'IMG_7195.jpg',\n",
       " 'IMG_9722.jpg',\n",
       " 'IMG_5295.JPG',\n",
       " 'IMG_1016.JPG',\n",
       " 'Snapseed.jpg',\n",
       " 'IMG_0123.PNG',\n",
       " 'IMG_7505.jpg',\n",
       " 'IMG_5670.jpg',\n",
       " '33d61370-7093-4b3c-8e4e-24269fb597d2.JPG']"
      ]
     },
     "execution_count": 3,
     "metadata": {},
     "output_type": "execute_result"
    }
   ],
   "source": [
    "import os\n",
    "from PIL import Image\n",
    "os.listdir('images_original')"
   ]
  },
  {
   "cell_type": "code",
   "execution_count": 4,
   "metadata": {},
   "outputs": [],
   "source": [
    "counter = 1\n",
    "for i in ['images_original/'+i for i in os.listdir('images_original') if '.jpg' in i.lower()]:\n",
    "    im = Image.open(i)\n",
    "    im.save(f'images/{counter}.jpg')\n",
    "    counter += 1\n",
    "\n",
    "for i in ['images_original/'+i for i in os.listdir('images_original') if '.png' in i.lower()]:\n",
    "    im = Image.open(i).convert('RGB')\n",
    "    im.save(f'images/{counter}.jpg')\n",
    "    counter += 1\n",
    "    "
   ]
  },
  {
   "cell_type": "code",
   "execution_count": null,
   "metadata": {},
   "outputs": [],
   "source": []
  }
 ],
 "metadata": {
  "kernelspec": {
   "display_name": "genai",
   "language": "python",
   "name": "python3"
  },
  "language_info": {
   "codemirror_mode": {
    "name": "ipython",
    "version": 3
   },
   "file_extension": ".py",
   "mimetype": "text/x-python",
   "name": "python",
   "nbconvert_exporter": "python",
   "pygments_lexer": "ipython3",
   "version": "3.11.5"
  }
 },
 "nbformat": 4,
 "nbformat_minor": 2
}
